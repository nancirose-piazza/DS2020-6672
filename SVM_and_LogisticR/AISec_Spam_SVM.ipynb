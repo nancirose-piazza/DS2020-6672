{
 "cells": [
  {
   "cell_type": "code",
   "execution_count": 1,
   "metadata": {
    "colab": {},
    "colab_type": "code",
    "id": "zhihg4j13v41"
   },
   "outputs": [],
   "source": [
    "import pandas as pd\n",
    "import numpy as np\n",
    "import matplotlib.pyplot as plt  \n",
    "\n",
    "df = pd.read_csv('datasets/sms_spam_svm.csv')\n",
    "\n",
    "y = df.iloc[:, 0].values\n",
    "y = np.where(y == 'spam', -1, 1)\n",
    "\n",
    "X = df.iloc[:, [1, 2]].values"
   ]
  },
  {
   "cell_type": "code",
   "execution_count": 2,
   "metadata": {
    "colab": {},
    "colab_type": "code",
    "id": "x_UHfm-q3v44"
   },
   "outputs": [],
   "source": [
    "from sklearn.model_selection import train_test_split\n",
    "\n",
    "X_train, X_test, y_train, y_test = train_test_split(\n",
    "         X, y, test_size=0.3, random_state=0)"
   ]
  },
  {
   "cell_type": "code",
   "execution_count": 3,
   "metadata": {
    "colab": {},
    "colab_type": "code",
    "id": "0N89i6Zm3v4_"
   },
   "outputs": [],
   "source": [
    "from sklearn.svm import SVC\n",
    "\n",
    "svm = SVC(kernel='linear', C=1.0, random_state=1)\n",
    "svm.fit(X_train, y_train)\n",
    "\n",
    "y_pred = svm.predict(X_test)\n"
   ]
  },
  {
   "cell_type": "code",
   "execution_count": 4,
   "metadata": {
    "collapsed": true
   },
   "outputs": [
    {
     "name": "stdout",
     "output_type": "stream",
     "text": [
      "Requirement already satisfied: mlxtend in c:\\users\\nanci\\anaconda3\\lib\\site-packages (0.17.2)\n",
      "Requirement already satisfied: numpy>=1.16.2 in c:\\users\\nanci\\anaconda3\\lib\\site-packages (from mlxtend) (1.16.5)\n",
      "Requirement already satisfied: pandas>=0.24.2 in c:\\users\\nanci\\anaconda3\\lib\\site-packages (from mlxtend) (0.25.1)\n",
      "Requirement already satisfied: scipy>=1.2.1 in c:\\users\\nanci\\anaconda3\\lib\\site-packages (from mlxtend) (1.3.1)\n",
      "Requirement already satisfied: scikit-learn>=0.20.3 in c:\\users\\nanci\\anaconda3\\lib\\site-packages (from mlxtend) (0.21.3)\n",
      "Requirement already satisfied: joblib>=0.13.2 in c:\\users\\nanci\\anaconda3\\lib\\site-packages (from mlxtend) (0.13.2)\n",
      "Requirement already satisfied: setuptools in c:\\users\\nanci\\anaconda3\\lib\\site-packages (from mlxtend) (41.4.0)\n",
      "Requirement already satisfied: matplotlib>=3.0.0 in c:\\users\\nanci\\anaconda3\\lib\\site-packages (from mlxtend) (3.1.1)\n",
      "Requirement already satisfied: python-dateutil>=2.6.1 in c:\\users\\nanci\\anaconda3\\lib\\site-packages (from pandas>=0.24.2->mlxtend) (2.8.0)\n",
      "Requirement already satisfied: pytz>=2017.2 in c:\\users\\nanci\\anaconda3\\lib\\site-packages (from pandas>=0.24.2->mlxtend) (2019.3)\n",
      "Requirement already satisfied: cycler>=0.10 in c:\\users\\nanci\\anaconda3\\lib\\site-packages (from matplotlib>=3.0.0->mlxtend) (0.10.0)\n",
      "Requirement already satisfied: kiwisolver>=1.0.1 in c:\\users\\nanci\\anaconda3\\lib\\site-packages (from matplotlib>=3.0.0->mlxtend) (1.1.0)\n",
      "Requirement already satisfied: pyparsing!=2.0.4,!=2.1.2,!=2.1.6,>=2.0.1 in c:\\users\\nanci\\anaconda3\\lib\\site-packages (from matplotlib>=3.0.0->mlxtend) (2.4.2)\n",
      "Requirement already satisfied: six>=1.5 in c:\\users\\nanci\\anaconda3\\lib\\site-packages (from python-dateutil>=2.6.1->pandas>=0.24.2->mlxtend) (1.12.0)\n"
     ]
    }
   ],
   "source": [
    "#install mlxtend\n",
    "!pip install mlxtend"
   ]
  },
  {
   "cell_type": "code",
   "execution_count": 5,
   "metadata": {
    "colab": {},
    "colab_type": "code",
    "id": "OZD4cPyj3v5B",
    "outputId": "1530c4d3-4810-49a8-ced4-072b1f541638"
   },
   "outputs": [
    {
     "name": "stderr",
     "output_type": "stream",
     "text": [
      "C:\\Users\\nanci\\Anaconda3\\lib\\site-packages\\mlxtend\\plotting\\decision_regions.py:247: UserWarning: No contour levels were found within the data range.\n",
      "  antialiased=True)\n"
     ]
    },
    {
     "data": {
      "image/png": "[encoded data removed]",
      "text/plain": [
       "<Figure size 432x288 with 1 Axes>"
      ]
     },
     "metadata": {
      "needs_background": "light"
     },
     "output_type": "display_data"
    }
   ],
   "source": [
    "from mlxtend.plotting import plot_decision_regions\n",
    "\n",
    "X_combined = np.vstack((X_train, X_test))\n",
    "y_combined = np.hstack((y_train, y_test))\n",
    "\n",
    "plot_decision_regions(X_combined, y_combined,\n",
    "                      clf=svm)\n",
    "plt.xlabel('suspect words')\n",
    "plt.ylabel('spam or ham')\n",
    "plt.legend(loc='upper right')\n",
    "plt.tight_layout()\n",
    "plt.show()"
   ]
  },
  {
   "cell_type": "code",
   "execution_count": 6,
   "metadata": {
    "colab": {},
    "colab_type": "code",
    "id": "HJ20UDNQ3v5E",
    "outputId": "ac5e23ae-6a6d-4d56-ec55-4e0cb7a309e5"
   },
   "outputs": [
    {
     "name": "stdout",
     "output_type": "stream",
     "text": [
      "Misclassified samples: 7\n",
      "Accuracy: 0.84\n"
     ]
    }
   ],
   "source": [
    "from sklearn.metrics import accuracy_score\n",
    "\n",
    "print('Misclassified samples: %d' % (y_test != y_pred).sum())\n",
    "print('Accuracy: %.2f' % accuracy_score(y_test, y_pred))"
   ]
  },
  {
   "cell_type": "code",
   "execution_count": 8,
   "metadata": {
    "scrolled": true
   },
   "outputs": [
    {
     "name": "stdout",
     "output_type": "stream",
     "text": [
      "Accuracy: 0.84\n"
     ]
    },
    {
     "name": "stderr",
     "output_type": "stream",
     "text": [
      "C:\\Users\\nanci\\Anaconda3\\lib\\site-packages\\sklearn\\svm\\base.py:193: FutureWarning: The default value of gamma will change from 'auto' to 'scale' in version 0.22 to account better for unscaled features. Set gamma explicitly to 'auto' or 'scale' to avoid this warning.\n",
      "  \"avoid this warning.\", FutureWarning)\n"
     ]
    },
    {
     "name": "stdout",
     "output_type": "stream",
     "text": [
      "Accuracy: 0.84\n",
      "Accuracy: 0.80\n",
      "Accuracy: 0.84\n"
     ]
    },
    {
     "name": "stderr",
     "output_type": "stream",
     "text": [
      "C:\\Users\\nanci\\Anaconda3\\lib\\site-packages\\sklearn\\svm\\base.py:193: FutureWarning: The default value of gamma will change from 'auto' to 'scale' in version 0.22 to account better for unscaled features. Set gamma explicitly to 'auto' or 'scale' to avoid this warning.\n",
      "  \"avoid this warning.\", FutureWarning)\n",
      "C:\\Users\\nanci\\Anaconda3\\lib\\site-packages\\sklearn\\svm\\base.py:193: FutureWarning: The default value of gamma will change from 'auto' to 'scale' in version 0.22 to account better for unscaled features. Set gamma explicitly to 'auto' or 'scale' to avoid this warning.\n",
      "  \"avoid this warning.\", FutureWarning)\n"
     ]
    }
   ],
   "source": [
    "c=['linear','poly','rbf','sigmoid']\n",
    "for i in c:\n",
    "    svm = SVC(kernel=i, C=1.0, random_state=1)\n",
    "    svm.fit(X_train, y_train)\n",
    "\n",
    "    y_pred = svm.predict(X_test)\n",
    "    print('Accuracy: %.2f' % accuracy_score(y_test, y_pred))"
   ]
  },
  {
   "cell_type": "code",
   "execution_count": 11,
   "metadata": {},
   "outputs": [
    {
     "name": "stdout",
     "output_type": "stream",
     "text": [
      "Accuracy: 0.84\n",
      "Accuracy: 0.84\n",
      "Accuracy: 0.84\n",
      "Accuracy: 0.84\n",
      "Accuracy: 0.84\n",
      "Accuracy: 0.84\n",
      "Accuracy: 0.84\n",
      "Accuracy: 0.84\n",
      "Accuracy: 0.84\n",
      "Accuracy: 0.84\n"
     ]
    }
   ],
   "source": [
    "c=1.0\n",
    "for x in range(0,10):\n",
    "    svm = SVC(kernel='linear', C=c, random_state=1)\n",
    "    svm.fit(X_train, y_train)\n",
    "\n",
    "    y_pred = svm.predict(X_test)\n",
    "    print('Accuracy: %.2f' % accuracy_score(y_test, y_pred))\n",
    "    c+=.01"
   ]
  },
  {
   "cell_type": "markdown",
   "metadata": {},
   "source": [
    "We gained nothing in accuracy from changing the kernal nor C value set to linear. The data is already on a scale between 0-1."
   ]
  }
 ],
 "metadata": {
  "colab": {
   "name": "AISec-Spam-SVM.ipynb",
   "provenance": []
  },
  "kernelspec": {
   "display_name": "Python 3",
   "language": "python",
   "name": "python3"
  },
  "language_info": {
   "codemirror_mode": {
    "name": "ipython",
    "version": 3
   },
   "file_extension": ".py",
   "mimetype": "text/x-python",
   "name": "python",
   "nbconvert_exporter": "python",
   "pygments_lexer": "ipython3",
   "version": "3.7.4"
  }
 },
 "nbformat": 4,
 "nbformat_minor": 1
}
