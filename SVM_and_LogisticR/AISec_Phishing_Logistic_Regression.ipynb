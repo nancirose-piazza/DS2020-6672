{
 "cells": [
  {
   "cell_type": "code",
   "execution_count": 1,
   "metadata": {
    "colab": {},
    "colab_type": "code",
    "id": "OiLSYUSo4Qvl"
   },
   "outputs": [],
   "source": [
    "import pandas as pd\n",
    "import numpy as np\n",
    "from sklearn import *\n",
    "from sklearn.linear_model import LogisticRegression\n",
    "from sklearn.metrics import accuracy_score\n",
    "import warnings \n",
    "warnings.simplefilter('ignore')"
   ]
  },
  {
   "cell_type": "code",
   "execution_count": 2,
   "metadata": {
    "colab": {},
    "colab_type": "code",
    "id": "AVecDCzc4Qvo"
   },
   "outputs": [],
   "source": [
    "phishing_dataset = np.genfromtxt('datasets/phishing_dataset.csv', delimiter=',', dtype=np.int32)\n",
    "samples = phishing_dataset[:,:-1]\n",
    "targets = phishing_dataset[:, -1]"
   ]
  },
  {
   "cell_type": "code",
   "execution_count": 3,
   "metadata": {
    "colab": {},
    "colab_type": "code",
    "id": "PxTkqknD4Qvr"
   },
   "outputs": [],
   "source": [
    "from sklearn.model_selection import train_test_split\n",
    "\n",
    "training_samples, testing_samples, training_targets, testing_targets = train_test_split(\n",
    "         samples, targets, test_size=0.2, random_state=0)"
   ]
  },
  {
   "cell_type": "code",
   "execution_count": 4,
   "metadata": {
    "colab": {},
    "colab_type": "code",
    "id": "r_Oq_aqX4Qvt"
   },
   "outputs": [],
   "source": [
    "log_classifier = LogisticRegression()"
   ]
  },
  {
   "cell_type": "code",
   "execution_count": 5,
   "metadata": {
    "colab": {},
    "colab_type": "code",
    "id": "gaMTQ3vx4Qvy",
    "outputId": "1b51747f-a9fb-4b3b-f030-0b3621826d4f"
   },
   "outputs": [
    {
     "data": {
      "text/plain": [
       "LogisticRegression(C=1.0, class_weight=None, dual=False, fit_intercept=True,\n",
       "                   intercept_scaling=1, l1_ratio=None, max_iter=100,\n",
       "                   multi_class='warn', n_jobs=None, penalty='l2',\n",
       "                   random_state=None, solver='warn', tol=0.0001, verbose=0,\n",
       "                   warm_start=False)"
      ]
     },
     "execution_count": 5,
     "metadata": {},
     "output_type": "execute_result"
    }
   ],
   "source": [
    "log_classifier.fit(training_samples, training_targets)"
   ]
  },
  {
   "cell_type": "code",
   "execution_count": 6,
   "metadata": {
    "colab": {},
    "colab_type": "code",
    "id": "b-gt57j24Qv1"
   },
   "outputs": [],
   "source": [
    "predictions = log_classifier.predict(testing_samples)"
   ]
  },
  {
   "cell_type": "code",
   "execution_count": 7,
   "metadata": {
    "colab": {},
    "colab_type": "code",
    "id": "zl6S4PIq4Qv4",
    "outputId": "1ea02772-8833-42b9-d8dd-7c2da3109102"
   },
   "outputs": [
    {
     "name": "stdout",
     "output_type": "stream",
     "text": [
      "Logistic Regression accuracy: 91.72320217096338\n"
     ]
    }
   ],
   "source": [
    "accuracy = 100.0 * accuracy_score(testing_targets, predictions)\n",
    "print (\"Logistic Regression accuracy: \" + str(accuracy))"
   ]
  },
  {
   "cell_type": "code",
   "execution_count": 8,
   "metadata": {
    "colab": {},
    "colab_type": "code",
    "id": "K0A52vBU4Qv7"
   },
   "outputs": [
    {
     "name": "stdout",
     "output_type": "stream",
     "text": [
      "0.9373433583959899\n",
      "0.9121951219512195\n"
     ]
    }
   ],
   "source": [
    "from sklearn.metrics import recall_score,precision_score\n",
    "\n",
    "print(recall_score(y_true=testing_targets,y_pred=predictions))\n",
    "print(precision_score(y_true=testing_targets,y_pred=predictions))"
   ]
  },
  {
   "cell_type": "code",
   "execution_count": 9,
   "metadata": {},
   "outputs": [],
   "source": [
    "from sklearn.metrics import confusion_matrix"
   ]
  },
  {
   "cell_type": "code",
   "execution_count": 10,
   "metadata": {
    "scrolled": true
   },
   "outputs": [
    {
     "data": {
      "text/html": [
       "<div>\n",
       "<style scoped>\n",
       "    .dataframe tbody tr th:only-of-type {\n",
       "        vertical-align: middle;\n",
       "    }\n",
       "\n",
       "    .dataframe tbody tr th {\n",
       "        vertical-align: top;\n",
       "    }\n",
       "\n",
       "    .dataframe thead th {\n",
       "        text-align: right;\n",
       "    }\n",
       "</style>\n",
       "<table border=\"1\" class=\"dataframe\">\n",
       "  <thead>\n",
       "    <tr style=\"text-align: right;\">\n",
       "      <th></th>\n",
       "      <th>pred_spam</th>\n",
       "      <th>pred_ham</th>\n",
       "    </tr>\n",
       "  </thead>\n",
       "  <tbody>\n",
       "    <tr>\n",
       "      <td>is_spam</td>\n",
       "      <td>906</td>\n",
       "      <td>108</td>\n",
       "    </tr>\n",
       "    <tr>\n",
       "      <td>is_ham</td>\n",
       "      <td>75</td>\n",
       "      <td>1122</td>\n",
       "    </tr>\n",
       "  </tbody>\n",
       "</table>\n",
       "</div>"
      ],
      "text/plain": [
       "         pred_spam  pred_ham\n",
       "is_spam        906       108\n",
       "is_ham          75      1122"
      ]
     },
     "execution_count": 10,
     "metadata": {},
     "output_type": "execute_result"
    }
   ],
   "source": [
    "import pandas as pd\n",
    "index=['is_spam','is_ham']\n",
    "columns=['pred_spam','pred_ham']\n",
    "pd.DataFrame(confusion_matrix(y_true=testing_targets,y_pred=predictions),index=index,columns=columns)"
   ]
  },
  {
   "cell_type": "code",
   "execution_count": 15,
   "metadata": {},
   "outputs": [
    {
     "name": "stdout",
     "output_type": "stream",
     "text": [
      "Logistic Regression accuracy: 91.72320217096338\n",
      "Logistic Regression accuracy: 91.72320217096338\n"
     ]
    }
   ],
   "source": [
    "for x in ['l1', 'l2']:\n",
    "    log_classifier = LogisticRegression(penalty=x)\n",
    "    log_classifier.fit(training_samples, training_targets)\n",
    "    predictions = log_classifier.predict(testing_samples)\n",
    "    accuracy = 100.0 * accuracy_score(testing_targets, predictions)\n",
    "    print (\"Logistic Regression accuracy: \" + str(accuracy))"
   ]
  },
  {
   "cell_type": "code",
   "execution_count": 19,
   "metadata": {},
   "outputs": [
    {
     "name": "stdout",
     "output_type": "stream",
     "text": [
      "Logistic Regression accuracy: 91.81365897783809  and c: 0.1\n",
      "Logistic Regression accuracy: 91.81365897783809  and c: 0.11\n",
      "Logistic Regression accuracy: 91.81365897783809  and c: 0.12\n",
      "Logistic Regression accuracy: 91.81365897783809  and c: 0.13\n",
      "Logistic Regression accuracy: 91.81365897783809  and c: 0.14\n",
      "Logistic Regression accuracy: 91.81365897783809  and c: 0.15000000000000002\n",
      "Logistic Regression accuracy: 91.81365897783809  and c: 0.16000000000000003\n",
      "Logistic Regression accuracy: 91.81365897783809  and c: 0.17000000000000004\n",
      "Logistic Regression accuracy: 91.85888738127545  and c: 0.18000000000000005\n",
      "Logistic Regression accuracy: 91.85888738127545  and c: 0.19000000000000006\n",
      "Logistic Regression accuracy: 91.85888738127545  and c: 0.20000000000000007\n",
      "Logistic Regression accuracy: 91.85888738127545  and c: 0.21000000000000008\n",
      "Logistic Regression accuracy: 91.85888738127545  and c: 0.22000000000000008\n",
      "Logistic Regression accuracy: 91.81365897783809  and c: 0.2300000000000001\n",
      "Logistic Regression accuracy: 91.81365897783809  and c: 0.2400000000000001\n",
      "Logistic Regression accuracy: 91.81365897783809  and c: 0.2500000000000001\n",
      "Logistic Regression accuracy: 91.81365897783809  and c: 0.2600000000000001\n",
      "Logistic Regression accuracy: 91.81365897783809  and c: 0.27000000000000013\n",
      "Logistic Regression accuracy: 91.81365897783809  and c: 0.28000000000000014\n",
      "Logistic Regression accuracy: 91.81365897783809  and c: 0.29000000000000015\n",
      "Logistic Regression accuracy: 91.81365897783809  and c: 0.30000000000000016\n",
      "Logistic Regression accuracy: 91.81365897783809  and c: 0.31000000000000016\n",
      "Logistic Regression accuracy: 91.81365897783809  and c: 0.3200000000000002\n",
      "Logistic Regression accuracy: 91.81365897783809  and c: 0.3300000000000002\n",
      "Logistic Regression accuracy: 91.81365897783809  and c: 0.3400000000000002\n",
      "Logistic Regression accuracy: 91.81365897783809  and c: 0.3500000000000002\n",
      "Logistic Regression accuracy: 91.81365897783809  and c: 0.3600000000000002\n",
      "Logistic Regression accuracy: 91.81365897783809  and c: 0.3700000000000002\n",
      "Logistic Regression accuracy: 91.81365897783809  and c: 0.3800000000000002\n",
      "Logistic Regression accuracy: 91.81365897783809  and c: 0.39000000000000024\n",
      "Logistic Regression accuracy: 91.81365897783809  and c: 0.40000000000000024\n",
      "Logistic Regression accuracy: 91.81365897783809  and c: 0.41000000000000025\n",
      "Logistic Regression accuracy: 91.81365897783809  and c: 0.42000000000000026\n",
      "Logistic Regression accuracy: 91.81365897783809  and c: 0.43000000000000027\n",
      "Logistic Regression accuracy: 91.81365897783809  and c: 0.4400000000000003\n",
      "Logistic Regression accuracy: 91.81365897783809  and c: 0.4500000000000003\n",
      "Logistic Regression accuracy: 91.76843057440072  and c: 0.4600000000000003\n",
      "Logistic Regression accuracy: 91.76843057440072  and c: 0.4700000000000003\n",
      "Logistic Regression accuracy: 91.76843057440072  and c: 0.4800000000000003\n",
      "Logistic Regression accuracy: 91.72320217096338  and c: 0.4900000000000003\n",
      "Logistic Regression accuracy: 91.72320217096338  and c: 0.5000000000000003\n",
      "Logistic Regression accuracy: 91.72320217096338  and c: 0.5100000000000003\n",
      "Logistic Regression accuracy: 91.72320217096338  and c: 0.5200000000000004\n",
      "Logistic Regression accuracy: 91.72320217096338  and c: 0.5300000000000004\n",
      "Logistic Regression accuracy: 91.72320217096338  and c: 0.5400000000000004\n",
      "Logistic Regression accuracy: 91.72320217096338  and c: 0.5500000000000004\n",
      "Logistic Regression accuracy: 91.72320217096338  and c: 0.5600000000000004\n",
      "Logistic Regression accuracy: 91.72320217096338  and c: 0.5700000000000004\n",
      "Logistic Regression accuracy: 91.72320217096338  and c: 0.5800000000000004\n",
      "Logistic Regression accuracy: 91.72320217096338  and c: 0.5900000000000004\n",
      "Logistic Regression accuracy: 91.76843057440072  and c: 0.6000000000000004\n",
      "Logistic Regression accuracy: 91.76843057440072  and c: 0.6100000000000004\n",
      "Logistic Regression accuracy: 91.76843057440072  and c: 0.6200000000000004\n",
      "Logistic Regression accuracy: 91.76843057440072  and c: 0.6300000000000004\n",
      "Logistic Regression accuracy: 91.76843057440072  and c: 0.6400000000000005\n",
      "Logistic Regression accuracy: 91.76843057440072  and c: 0.6500000000000005\n",
      "Logistic Regression accuracy: 91.76843057440072  and c: 0.6600000000000005\n",
      "Logistic Regression accuracy: 91.76843057440072  and c: 0.6700000000000005\n",
      "Logistic Regression accuracy: 91.76843057440072  and c: 0.6800000000000005\n",
      "Logistic Regression accuracy: 91.76843057440072  and c: 0.6900000000000005\n",
      "Logistic Regression accuracy: 91.76843057440072  and c: 0.7000000000000005\n",
      "Logistic Regression accuracy: 91.76843057440072  and c: 0.7100000000000005\n",
      "Logistic Regression accuracy: 91.76843057440072  and c: 0.7200000000000005\n",
      "Logistic Regression accuracy: 91.76843057440072  and c: 0.7300000000000005\n",
      "Logistic Regression accuracy: 91.72320217096338  and c: 0.7400000000000005\n",
      "Logistic Regression accuracy: 91.72320217096338  and c: 0.7500000000000006\n",
      "Logistic Regression accuracy: 91.72320217096338  and c: 0.7600000000000006\n",
      "Logistic Regression accuracy: 91.72320217096338  and c: 0.7700000000000006\n",
      "Logistic Regression accuracy: 91.72320217096338  and c: 0.7800000000000006\n",
      "Logistic Regression accuracy: 91.72320217096338  and c: 0.7900000000000006\n",
      "Logistic Regression accuracy: 91.72320217096338  and c: 0.8000000000000006\n",
      "Logistic Regression accuracy: 91.72320217096338  and c: 0.8100000000000006\n",
      "Logistic Regression accuracy: 91.72320217096338  and c: 0.8200000000000006\n",
      "Logistic Regression accuracy: 91.72320217096338  and c: 0.8300000000000006\n",
      "Logistic Regression accuracy: 91.72320217096338  and c: 0.8400000000000006\n",
      "Logistic Regression accuracy: 91.72320217096338  and c: 0.8500000000000006\n",
      "Logistic Regression accuracy: 91.72320217096338  and c: 0.8600000000000007\n",
      "Logistic Regression accuracy: 91.72320217096338  and c: 0.8700000000000007\n",
      "Logistic Regression accuracy: 91.72320217096338  and c: 0.8800000000000007\n",
      "Logistic Regression accuracy: 91.72320217096338  and c: 0.8900000000000007\n",
      "Logistic Regression accuracy: 91.72320217096338  and c: 0.9000000000000007\n",
      "Logistic Regression accuracy: 91.72320217096338  and c: 0.9100000000000007\n",
      "Logistic Regression accuracy: 91.72320217096338  and c: 0.9200000000000007\n",
      "Logistic Regression accuracy: 91.72320217096338  and c: 0.9300000000000007\n",
      "Logistic Regression accuracy: 91.72320217096338  and c: 0.9400000000000007\n",
      "Logistic Regression accuracy: 91.72320217096338  and c: 0.9500000000000007\n",
      "Logistic Regression accuracy: 91.72320217096338  and c: 0.9600000000000007\n",
      "Logistic Regression accuracy: 91.72320217096338  and c: 0.9700000000000008\n",
      "Logistic Regression accuracy: 91.72320217096338  and c: 0.9800000000000008\n",
      "Logistic Regression accuracy: 91.72320217096338  and c: 0.9900000000000008\n",
      "Logistic Regression accuracy: 91.72320217096338  and c: 1.0000000000000007\n",
      "Logistic Regression accuracy: 91.72320217096338  and c: 1.0100000000000007\n",
      "Logistic Regression accuracy: 91.72320217096338  and c: 1.0200000000000007\n",
      "Logistic Regression accuracy: 91.72320217096338  and c: 1.0300000000000007\n",
      "Logistic Regression accuracy: 91.72320217096338  and c: 1.0400000000000007\n",
      "Logistic Regression accuracy: 91.72320217096338  and c: 1.0500000000000007\n",
      "Logistic Regression accuracy: 91.72320217096338  and c: 1.0600000000000007\n",
      "Logistic Regression accuracy: 91.72320217096338  and c: 1.0700000000000007\n",
      "Logistic Regression accuracy: 91.72320217096338  and c: 1.0800000000000007\n",
      "Logistic Regression accuracy: 91.72320217096338  and c: 1.0900000000000007\n"
     ]
    }
   ],
   "source": [
    "c=.1\n",
    "for x in range(0,100):\n",
    "    log_classifier = LogisticRegression(penalty='l2',C=c)\n",
    "    log_classifier.fit(training_samples, training_targets)\n",
    "    predictions = log_classifier.predict(testing_samples)\n",
    "    accuracy = 100.0 * accuracy_score(testing_targets, predictions)\n",
    "    print (\"Logistic Regression accuracy: \" + str(accuracy),\" and c:\",c)\n",
    "    c+=.01"
   ]
  },
  {
   "cell_type": "code",
   "execution_count": 20,
   "metadata": {},
   "outputs": [
    {
     "name": "stdout",
     "output_type": "stream",
     "text": [
      "Logistic Regression accuracy: 91.85888738127545  and c: 0.18\n"
     ]
    }
   ],
   "source": [
    "c=0.18\n",
    "for x in range(0,1):\n",
    "    log_classifier = LogisticRegression(penalty='l2',C=c)\n",
    "    log_classifier.fit(training_samples, training_targets)\n",
    "    predictions = log_classifier.predict(testing_samples)\n",
    "    accuracy = 100.0 * accuracy_score(testing_targets, predictions)\n",
    "    print (\"Logistic Regression accuracy: \" + str(accuracy),\" and c:\",c)"
   ]
  }
 ],
 "metadata": {
  "colab": {
   "name": "AISec-Phishing-Logistic Regression",
   "provenance": []
  },
  "kernelspec": {
   "display_name": "Python 3",
   "language": "python",
   "name": "python3"
  },
  "language_info": {
   "codemirror_mode": {
    "name": "ipython",
    "version": 3
   },
   "file_extension": ".py",
   "mimetype": "text/x-python",
   "name": "python",
   "nbconvert_exporter": "python",
   "pygments_lexer": "ipython3",
   "version": "3.7.4"
  }
 },
 "nbformat": 4,
 "nbformat_minor": 1
}
