{
  "nbformat": 4,
  "nbformat_minor": 0,
  "metadata": {
    "colab": {
      "name": "Copy of AISec_Lab4_full_dataset_Nancirose_Piazza.ipynb",
      "provenance": [],
      "collapsed_sections": [],
      "machine_shape": "hm"
    },
    "kernelspec": {
      "name": "python3",
      "display_name": "Python 3"
    },
    "language_info": {
      "codemirror_mode": {
        "name": "ipython",
        "version": 3
      },
      "file_extension": ".py",
      "mimetype": "text/x-python",
      "name": "python",
      "nbconvert_exporter": "python",
      "pygments_lexer": "ipython3",
      "version": "3.7.4"
    },
    "accelerator": "TPU"
  },
  "cells": [
    {
      "cell_type": "markdown",
      "metadata": {
        "colab_type": "text",
        "id": "WIiJpgfT5LTi"
      },
      "source": [
        "# **2. Usecase: Network Intrusion**\n",
        "Some attacks attempt to flood a computer with network traffic. In some other cases, attacks attempt to exploit flaws in networking software in order to gain unauthorized access to a computer. Detecting an exploit in an incredibly large haystack of network requests is not easy.\n",
        "\n",
        "Some exploit behaviors follow known patterns such as scanning every port in a short of time, sending a burst of request to a port... However, the biggest threat may be the one that has never been detected and classified yet. Part of detecting potential network intrusions is detecting anomalies. These are connections that aren't known to be attacks, but, do not resemble connections that have been observed in the past.\n",
        "\n",
        "In this notebook, K-means is used to detect anomalous network connections based on statistics about each of them.\n",
        "\n",
        "# **2.1. Data**\n",
        "The data comes from [KDD Cup 1999](http://kdd.ics.uci.edu/databases/kddcup99/kddcup99.html). The dataset is about 708MB and contains about 4.9M connections. For each connection, the data set contains information like the number of bytes sent, login attempts, TCP errors, and so on. Each connection is one line of CSV-formatted data, containing 38 features: back, buffer_overflow, ftp_write, guess_passwd, imap, ipsweep, land, loadmodule, multihop, neptune, nmap, normal, perl, phf, pod, portsweep, rootkit, satan, smurf, spy, teardrop, warezclient, warezmaster. For more details about each features, please follow this [link](http://kdd.ics.uci.edu/databases/kddcup99/kddcup99.html).\n",
        "\n",
        "Many features take on the value 0 or 1, indicating the presence or absence of a behavior such as su_attempted in the 15th column. Some features are counts, like num_file_creations in the 17th columns. Some others are the number of sent and received bytes."
      ]
    },
    {
      "cell_type": "markdown",
      "metadata": {
        "colab_type": "text",
        "id": "8yS28LE75fEB"
      },
      "source": [
        "# **2.2. Clustering without using categorical features**\n",
        "First, we need to import some packages that are used in this notebook."
      ]
    },
    {
      "cell_type": "code",
      "metadata": {
        "id": "UgOTuxl_FJJa",
        "colab_type": "code",
        "colab": {}
      },
      "source": [
        "!apt-get install openjdk-8-jdk-headless -qq > /dev/null\n",
        "!pip install -q findspark"
      ],
      "execution_count": 0,
      "outputs": []
    },
    {
      "cell_type": "code",
      "metadata": {
        "colab_type": "code",
        "id": "sCdvvLu_UfoM",
        "outputId": "9af1588e-30c5-4d2e-8c45-f810cbd8cadb",
        "colab": {
          "base_uri": "https://localhost:8080/",
          "height": 36
        }
      },
      "source": [
        "!rm spark-2.4.5-bin-hadoop2.7\n",
        "!wget -q https://downloads.apache.org/spark/spark-2.4.5/spark-2.4.5-bin-hadoop2.7.tgz\n",
        "!tar xf spark-2.4.5-bin-hadoop2.7.tgz\n",
        "!rm spark-2.4.5-bin-hadoop2.7.tgz"
      ],
      "execution_count": 2,
      "outputs": [
        {
          "output_type": "stream",
          "text": [
            "rm: cannot remove 'spark-2.4.5-bin-hadoop2.7': No such file or directory\n"
          ],
          "name": "stdout"
        }
      ]
    },
    {
      "cell_type": "code",
      "metadata": {
        "id": "m2h7K3VsesmQ",
        "colab_type": "code",
        "colab": {
          "base_uri": "https://localhost:8080/",
          "height": 54
        },
        "outputId": "a61ea10b-265a-4ed5-b971-c13742807f7f"
      },
      "source": [
        "#downloading kddcup data (10%)\n",
        "!rm kddcup.data.gz\n",
        "!wget -q http://kdd.ics.uci.edu/databases/kddcup99/kddcup.data.gz\n",
        "!gunzip kddcup.data.gz\n",
        "!rm kddcup.data.gz"
      ],
      "execution_count": 12,
      "outputs": [
        {
          "output_type": "stream",
          "text": [
            "rm: cannot remove 'kddcup.data.gz': No such file or directory\n",
            "rm: cannot remove 'kddcup.data.gz': No such file or directory\n"
          ],
          "name": "stdout"
        }
      ]
    },
    {
      "cell_type": "code",
      "metadata": {
        "colab_type": "code",
        "id": "n6EURi_4WIze",
        "colab": {}
      },
      "source": [
        "import os\n",
        "os.environ[\"JAVA_HOME\"] = \"/usr/lib/jvm/java-8-openjdk-amd64\"\n",
        "os.environ[\"SPARK_HOME\"] = \"/content/spark-2.4.5-bin-hadoop2.7\"\n",
        "\n",
        "MAX_MEMORY='14g'\n",
        "import findspark\n",
        "findspark.init()\n",
        "from pyspark.sql import SparkSession\n",
        "spark = SparkSession.builder.master(\"local[*]\")\\\n",
        ".config(\"spark.executor.memory\", MAX_MEMORY) \\\n",
        "    .config(\"spark.driver.memory\", MAX_MEMORY) \\\n",
        "        .getOrCreate()"
      ],
      "execution_count": 0,
      "outputs": []
    },
    {
      "cell_type": "code",
      "metadata": {
        "colab_type": "code",
        "id": "fjhYt5hl5jhn",
        "colab": {}
      },
      "source": [
        "import sys\n",
        "import re\n",
        "import time\n",
        "from pyspark.sql import SQLContext\n",
        "from pyspark.sql.types import *\n",
        "from pyspark.sql import Row\n",
        "# from pyspark.sql.functions import *\n",
        "%matplotlib inline\n",
        "import matplotlib.pyplot as plt\n",
        "import pandas as pd\n",
        "import numpy as np\n",
        "import pyspark.sql.functions as func\n",
        "import matplotlib.patches as mpatches\n",
        "from operator import add\n",
        "from operator import add\n",
        "from pyspark.mllib.tree import DecisionTree, DecisionTreeModel\n",
        "from pyspark.mllib.util import MLUtils\n",
        "from pyspark.mllib.regression import LabeledPoint\n",
        "import itertools"
      ],
      "execution_count": 0,
      "outputs": []
    },
    {
      "cell_type": "code",
      "metadata": {
        "id": "8G0P5JMVgdw-",
        "colab_type": "code",
        "colab": {}
      },
      "source": [
        "from pyspark import SparkContext #SparkConf\n",
        "tempdir=\"/content/\"\n",
        "path = os.path.join(tempdir, \"kddcup.data\")\n",
        "raw_data = spark.sparkContext.textFile(path,3)"
      ],
      "execution_count": 0,
      "outputs": []
    },
    {
      "cell_type": "code",
      "metadata": {
        "id": "lwiANWNzWbXL",
        "colab_type": "code",
        "outputId": "ecf6dfca-2174-4713-9d87-b39126046dc7",
        "colab": {
          "base_uri": "https://localhost:8080/",
          "height": 36
        }
      },
      "source": [
        "spark.sparkContext._conf.get('spark.driver.memory')"
      ],
      "execution_count": 19,
      "outputs": [
        {
          "output_type": "execute_result",
          "data": {
            "text/plain": [
              "'14g'"
            ]
          },
          "metadata": {
            "tags": []
          },
          "execution_count": 19
        }
      ]
    },
    {
      "cell_type": "markdown",
      "metadata": {
        "colab_type": "text",
        "id": "1v1SG-iL5w0y"
      },
      "source": [
        "\n",
        "# **2.2.1. Loading data**\n",
        "There are two types of features: numerical features and categorical features. Currently, to get familiar with the data and the problem, we only use numerical features. In our data, we also have pre-defined groups for each connection, which we can use later as our \"ground truth\" for verifying our results.\n",
        "\n",
        "**Note 1:** we don't use the labels in the training phase !!!\n",
        "\n",
        "**Note 2:** in general, since clustering is un-supervised, you don't have access to ground truth. For this reason, several metrics to judge the quality of clustering have been devised. For a short overview of such metrics, follow this [link](https://en.wikipedia.org/wiki/Cluster_analysis#Internal_evaluation). Note that computing such metrics, that is trying to assess the quality of your clustering results, is as computationally intensive as computing the clustering itself!"
      ]
    },
    {
      "cell_type": "markdown",
      "metadata": {
        "colab_type": "text",
        "id": "FS3iz8If6GJ0"
      },
      "source": [
        "# **Question 1**\n",
        "Write function parseLine to construct a tuple of (label, vector) for each connection, extract the data that contains only the data points (without label), then print the number of connections.\n",
        "\n",
        "Where,\n",
        "\n",
        "* label is the pre-defined label of each connection\n",
        "* vector is a numpy array that contains values of all features, but the label and the categorial features at index 1,2,3 of each connection. Each vector is a data point."
      ]
    },
    {
      "cell_type": "code",
      "metadata": {
        "id": "7qm1ibmYnXqa",
        "colab_type": "code",
        "outputId": "4440aa03-6560-4207-a56e-cdae176bd689",
        "colab": {
          "base_uri": "https://localhost:8080/",
          "height": 36
        }
      },
      "source": [
        "def parseLine(data):\n",
        "  print(data.count())\n",
        "  return data.map(lambda sample: (sample.split(\",\")))\\\n",
        "              .map(lambda sample: (np.asarray(sample[4:41],dtype='float32'),sample[41:42]))\n",
        "parsed_raw_data = parseLine(raw_data)"
      ],
      "execution_count": 20,
      "outputs": [
        {
          "output_type": "stream",
          "text": [
            "4898431\n"
          ],
          "name": "stdout"
        }
      ]
    },
    {
      "cell_type": "code",
      "metadata": {
        "id": "G1qyursW-ue3",
        "colab_type": "code",
        "colab": {}
      },
      "source": [
        "def separate_train(data):\n",
        "  return data.map(lambda sample: sample[0])\n",
        "def separate_labels(data):\n",
        "  return data.map(lambda sample: sample[1])"
      ],
      "execution_count": 0,
      "outputs": []
    },
    {
      "cell_type": "code",
      "metadata": {
        "id": "lzeiBhGw_Btm",
        "colab_type": "code",
        "colab": {}
      },
      "source": [
        "train_data = separate_train(parsed_raw_data)\n",
        "label_data = separate_labels(parsed_raw_data)"
      ],
      "execution_count": 0,
      "outputs": []
    },
    {
      "cell_type": "markdown",
      "metadata": {
        "colab_type": "text",
        "id": "6ZDpco1v6UVy"
      },
      "source": [
        "# **Question 2**\n",
        "Using K-means algorithm of MLLIB, cluster the connections into two groups then plot the result. Why two groups? In this case, we are just warming up, we're testing things around, so \"two groups\" has no particular meaning.\n",
        "\n",
        "You can use the following parameters:\n",
        "\n",
        "* maxIterations=10\n",
        "* runs=10\n",
        "* initializationMode=\"random\"\n",
        "Discuss the result from your figure."
      ]
    },
    {
      "cell_type": "markdown",
      "metadata": {
        "colab_type": "text",
        "id": "TLvdPHfJ8e8y"
      },
      "source": [
        "One of the simplest method to evaluate our result is calculate the Within Set Sum of Squared Errors (WSSSE), or simply, 'Sum of Squared Errors'. An error of a data point is defined as it's distance to the closest cluster center. \n",
        "We will now use a version of euclidean_distance that assumes the arguments to be numpy arrays, which is really faster, it will come to be useful because this function will be use several million times."
      ]
    },
    {
      "cell_type": "code",
      "metadata": {
        "id": "o7clgyGUx5dJ",
        "colab_type": "code",
        "colab": {}
      },
      "source": [
        "from pyspark.mllib.clustering import KMeans, KMeansModel\n",
        "\n",
        "clusters = KMeans.train(k=2,rdd=train_data, maxIterations=10, initializationMode=\"random\")"
      ],
      "execution_count": 0,
      "outputs": []
    },
    {
      "cell_type": "code",
      "metadata": {
        "id": "fFvIFGgS2hpw",
        "colab_type": "code",
        "colab": {}
      },
      "source": [
        "pred = clusters.predict(train_data)"
      ],
      "execution_count": 0,
      "outputs": []
    },
    {
      "cell_type": "code",
      "metadata": {
        "id": "WfgOIOp0hMTO",
        "colab_type": "code",
        "colab": {}
      },
      "source": [
        "pred = pred.collect()"
      ],
      "execution_count": 0,
      "outputs": []
    },
    {
      "cell_type": "code",
      "metadata": {
        "id": "vc8KFY_eZvgr",
        "colab_type": "code",
        "colab": {}
      },
      "source": [
        "df_data = train_data.collect()"
      ],
      "execution_count": 0,
      "outputs": []
    },
    {
      "cell_type": "code",
      "metadata": {
        "id": "64p9p6xTfbCv",
        "colab_type": "code",
        "colab": {}
      },
      "source": [
        "df = pd.DataFrame(np.asmatrix(df_data,dtype=float))"
      ],
      "execution_count": 0,
      "outputs": []
    },
    {
      "cell_type": "code",
      "metadata": {
        "id": "Hxh9Gf45cm6K",
        "colab_type": "code",
        "colab": {}
      },
      "source": [
        "df['labels'] = pred"
      ],
      "execution_count": 0,
      "outputs": []
    },
    {
      "cell_type": "code",
      "metadata": {
        "id": "FBu6B1ywgiKw",
        "colab_type": "code",
        "colab": {}
      },
      "source": [
        "df_1 = df[df.labels==1]\n",
        "df_0 = df[df.labels==0]"
      ],
      "execution_count": 0,
      "outputs": []
    },
    {
      "cell_type": "code",
      "metadata": {
        "id": "ibJ2Fcp9vSZz",
        "colab_type": "code",
        "outputId": "ed6bdef1-82b6-40e4-9ab6-c7433a60c8cb",
        "colab": {
          "base_uri": "https://localhost:8080/",
          "height": 289
        }
      },
      "source": [
        "plt.scatter(df_1[:][0],df_1[:][1],c=['red'])\n",
        "plt.scatter(df_0[:][0],df_0[:][1],c=['blue'])\n",
        "plt.show()"
      ],
      "execution_count": 31,
      "outputs": [
        {
          "output_type": "display_data",
          "data": {
            "image/png": "[encoded data removed]",
            "text/plain": [
              "<Figure size 432x288 with 1 Axes>"
            ]
          },
          "metadata": {
            "tags": []
          }
        }
      ]
    },
    {
      "cell_type": "code",
      "metadata": {
        "id": "Mzh-VMrnjBPs",
        "colab_type": "code",
        "colab": {}
      },
      "source": [
        "WSSSE = clusters.computeCost(train_data)"
      ],
      "execution_count": 0,
      "outputs": []
    },
    {
      "cell_type": "code",
      "metadata": {
        "id": "YRFBodqMIuL2",
        "colab_type": "code",
        "outputId": "4b7cdf7a-c66b-4d46-9640-64d69fec3ab8",
        "colab": {
          "base_uri": "https://localhost:8080/",
          "height": 36
        }
      },
      "source": [
        "print(\"Within Set Sum of Squared Error = \" + str(WSSSE))"
      ],
      "execution_count": 33,
      "outputs": [
        {
          "output_type": "stream",
          "text": [
            "Within Set Sum of Squared Error = 6.379370667972552e+18\n"
          ],
          "name": "stdout"
        }
      ]
    },
    {
      "cell_type": "markdown",
      "metadata": {
        "colab_type": "text",
        "id": "lmlN2FMK83cx"
      },
      "source": [
        "# **Question 3**\n",
        "This is a good opportunity to use the given labels to get an intuitive sense of what went into these two clusters, by counting the labels within each cluster. Use the following code that uses the model to assign each data point to a cluster, and counts occurrences of cluster and label pairs. What do you think about the result ?"
      ]
    },
    {
      "cell_type": "code",
      "metadata": {
        "colab_type": "code",
        "id": "q5vVFp0789UI",
        "outputId": "c9e33562-7338-49ee-df6a-6f3e035ba09f",
        "colab": {
          "base_uri": "https://localhost:8080/",
          "height": 36
        }
      },
      "source": [
        "#couldn't use the code given, didn't match up to my tuple.\n",
        "pred.count(0)"
      ],
      "execution_count": 34,
      "outputs": [
        {
          "output_type": "execute_result",
          "data": {
            "text/plain": [
              "1972793"
            ]
          },
          "metadata": {
            "tags": []
          },
          "execution_count": 34
        }
      ]
    },
    {
      "cell_type": "code",
      "metadata": {
        "id": "9mfFrkBOllQ4",
        "colab_type": "code",
        "outputId": "860fc0db-adbe-4e21-93c1-250a72d9e350",
        "colab": {
          "base_uri": "https://localhost:8080/",
          "height": 36
        }
      },
      "source": [
        "pred.count(1)"
      ],
      "execution_count": 35,
      "outputs": [
        {
          "output_type": "execute_result",
          "data": {
            "text/plain": [
              "2925638"
            ]
          },
          "metadata": {
            "tags": []
          },
          "execution_count": 35
        }
      ]
    },
    {
      "cell_type": "markdown",
      "metadata": {
        "colab_type": "text",
        "id": "5YDrkZ_f9AT0"
      },
      "source": [
        "Haha, there's two clusters but only one point in 1 of the two clusters."
      ]
    },
    {
      "cell_type": "markdown",
      "metadata": {
        "colab_type": "text",
        "id": "rfPEd5Lm9DWe"
      },
      "source": [
        "# **2.2.4. Choosing K**\n",
        "How many clusters are appropriate for a dataset? In particular, for our own dataset, it's clear that there are 23 distinct behavior patterns in the data, so it seems that k could be at least 23, or likely, even more. In other cases, we even don't have any information about the number of patterns at all (remember, generally your data is not labelled!). Our task now is finding a good value of  k . For doing that, we have to build and evaluate models with different values of  k . A clustering could be considered good if each data point were near to its closest centroid. One of the ways to evaluate a model is calculating the Mean of Squared Errors of all data points."
      ]
    },
    {
      "cell_type": "markdown",
      "metadata": {
        "colab_type": "text",
        "id": "alINfoNB9Rc7"
      },
      "source": [
        "# **Question 4**\n",
        "Use the function below to calculate the MSE of each model that is corresponding to each value of  k . Plot the results. From the obtained result, what is the best value for  k  ? Why ?"
      ]
    },
    {
      "cell_type": "code",
      "metadata": {
        "colab_type": "code",
        "id": "p5syyYMf9Vyj",
        "colab": {}
      },
      "source": [
        "def clusteringScore(data, k):\n",
        "    clusters = KMeans.train(data, k, maxIterations=10, runs=10, initializationMode=\"random\")\n",
        "    WSSSE = clusters.computeCost(data)\n",
        "    return WSSSE"
      ],
      "execution_count": 0,
      "outputs": []
    },
    {
      "cell_type": "code",
      "metadata": {
        "id": "mRTS1hHzmvLP",
        "colab_type": "code",
        "outputId": "85b25d47-cd41-4bd6-b1e0-41c5d757971b",
        "colab": {
          "base_uri": "https://localhost:8080/",
          "height": 477
        }
      },
      "source": [
        "# k: the number of clusters\n",
        "k_range = range(5, 126, 20)\n",
        "\n",
        "scores = [clusteringScore(train_data, k) for k in k_range]\n",
        "for score in scores:\n",
        "    print(score)\n",
        "    \n",
        "# plot results\n",
        "plt.scatter(k_range, scores)\n",
        "plt.xlabel('k')\n",
        "plt.ylabel('clustering score')"
      ],
      "execution_count": 37,
      "outputs": [
        {
          "output_type": "stream",
          "text": [
            "/content/spark-2.4.5-bin-hadoop2.7/python/pyspark/mllib/clustering.py:347: UserWarning: The param `runs` has no effect since Spark 2.0.0.\n",
            "  warnings.warn(\"The param `runs` has no effect since Spark 2.0.0.\")\n"
          ],
          "name": "stderr"
        },
        {
          "output_type": "stream",
          "text": [
            "1.1650532231786496e+18\n",
            "9.663611878887251e+17\n",
            "1.0946377851377892e+18\n",
            "9.904850627709641e+17\n",
            "9.659916769327931e+17\n",
            "9.904861382997676e+17\n",
            "9.659948559396988e+17\n"
          ],
          "name": "stdout"
        },
        {
          "output_type": "execute_result",
          "data": {
            "text/plain": [
              "Text(0, 0.5, 'clustering score')"
            ]
          },
          "metadata": {
            "tags": []
          },
          "execution_count": 37
        },
        {
          "output_type": "display_data",
          "data": {
            "image/png": "[encoded data removed]",
            "text/plain": [
              "<Figure size 432x288 with 1 Axes>"
            ]
          },
          "metadata": {
            "tags": []
          }
        }
      ]
    },
    {
      "cell_type": "markdown",
      "metadata": {
        "colab_type": "text",
        "id": "wG4ZsHfGn8b6"
      },
      "source": [
        "It seems around clusters above 20 give a relevantly constant clustering score. This is our diminishing return.\n"
      ]
    },
    {
      "cell_type": "markdown",
      "metadata": {
        "colab_type": "text",
        "id": "vwM5hPwo9e4g"
      },
      "source": [
        "# **2.2.5 Normalizing features**\n",
        "K-means clustering treats equally all dimensions/directions of the space and therefore tends to produce more or less spherical (rather than elongated) clusters. In this situation, leaving variances uneven is equivalent to putting more weight on variables with smaller variance, so clusters will tend to be separated along variables with greater variance.\n",
        "\n",
        "In our notebook, since Euclidean distance is used, the clusters will be influenced strongly by the magnitudes of the variables, especially by outliers. Normalizing will remove this bias.\n",
        "\n",
        "Each feature can be normalized by converting it to a standard score. This means subtracting the mean of the feature’s values from each value, and dividing by the standard deviation\n",
        "\\begin{align}\n",
        "normalize_i=\\frac{feature_i - \\mu_i}{\\sigma_i}\n",
        "\\end{align}\n",
        "Where,\n",
        "* $normalize_i$  is the normalized value of feature $i$ \n",
        "* $\\mu_i$ is the mean of feature $i$ \n",
        "* $\\sigma_i$ is the standard deviation of feature $i$"
      ]
    },
    {
      "cell_type": "markdown",
      "metadata": {
        "colab_type": "text",
        "id": "2VhRGrrX-ebI"
      },
      "source": [
        "# **Question 5**\n",
        "Complete the code below to normalize the data. Print the first 5 lines of the new data.\n",
        "\n",
        "HINT: If $\\sigma_i=0$ then ${normalize}_i = {feature}_i−\\mu_i$"
      ]
    },
    {
      "cell_type": "code",
      "metadata": {
        "id": "yzXo3MmWljYK",
        "colab_type": "code",
        "colab": {}
      },
      "source": [
        "def normalizeData(data):\n",
        "  count = data.count()\n",
        "  buffer = .00000001\n",
        "  sum = data.sum()\n",
        "  mean = sum/count\n",
        "  std = data.stdev() + buffer\n",
        "  return data.map(lambda sample: ((sample - mean)/std))\n",
        "\n",
        "normalizedData_rdd = normalizeData(train_data)"
      ],
      "execution_count": 0,
      "outputs": []
    },
    {
      "cell_type": "code",
      "metadata": {
        "id": "vSNefwBkufCe",
        "colab_type": "code",
        "outputId": "c4252a78-dc39-4572-a1d0-a7303517aa7d",
        "colab": {
          "base_uri": "https://localhost:8080/",
          "height": 204
        }
      },
      "source": [
        "#this is the reason why we have some nan values in the normalized data, if for three columns, the std is 0 because all values are 0, then anything divided by 0 cannot be calculated.\n",
        "#therefore let's drop these values OR we can add a buffer.\n",
        "#we may drop because there is no variation in data therefore, has no impact on the importance of the cluster.\n",
        "train_data.stdev()"
      ],
      "execution_count": 39,
      "outputs": [
        {
          "output_type": "execute_result",
          "data": {
            "text/plain": [
              "array([9.41428368e+05, 6.45005242e+05, 2.39075265e-03, 4.28356602e-02,\n",
              "       7.21506208e-03, 4.68641538e-01, 7.29851909e-03, 3.50598664e-01,\n",
              "       3.85642952e+00, 8.25584570e-03, 8.08216762e-03, 3.93798673e+00,\n",
              "       1.24169913e-01, 8.73627821e-03, 3.54858084e-02, 0.00000000e+00,\n",
              "       6.38975790e-04, 2.88688836e-02, 2.11869255e+02, 2.45865902e+02,\n",
              "       3.81817698e-01, 3.82226153e-01, 2.32253261e-01, 2.32659875e-01,\n",
              "       3.89203542e-01, 8.27127501e-02, 1.40557414e-01, 6.40201763e+01,\n",
              "       1.05911940e+02, 4.11176840e-01, 1.08536963e-01, 4.80987475e-01,\n",
              "       4.12604376e-02, 3.81834925e-01, 3.82176612e-01, 2.30940178e-01,\n",
              "       2.30979104e-01])"
            ]
          },
          "metadata": {
            "tags": []
          },
          "execution_count": 39
        }
      ]
    },
    {
      "cell_type": "markdown",
      "metadata": {
        "colab_type": "text",
        "id": "pYUvACr4-2hC"
      },
      "source": [
        "# **Question 6**\n",
        "Using the new data, build different models with different values of $k\\in [60,70,80,90,100,110]$ . Evaluate the results by plotting them and choose the best value of $k$."
      ]
    },
    {
      "cell_type": "code",
      "metadata": {
        "id": "J48Z0yyOtV8B",
        "colab_type": "code",
        "colab": {}
      },
      "source": [
        "def clusteringScore(data, k):\n",
        "    clusters = KMeans.train(data, k, maxIterations=10, runs=10, initializationMode=\"random\")\n",
        "    WSSSE = clusters.computeCost(data)\n",
        "    return WSSSE"
      ],
      "execution_count": 0,
      "outputs": []
    },
    {
      "cell_type": "code",
      "metadata": {
        "colab_type": "code",
        "id": "-N-i6KiD_E4Y",
        "outputId": "928ffe60-fa42-4a93-91c5-9dd713bb141d",
        "colab": {
          "base_uri": "https://localhost:8080/",
          "height": 458
        }
      },
      "source": [
        "# k: the number of clusters\n",
        "k_range = range(60, 120, 10)\n",
        "\n",
        "scores = [clusteringScore(normalizedData_rdd, k) for k in k_range]\n",
        "for score in scores:\n",
        "    print(score)\n",
        "    \n",
        "# plot results\n",
        "plt.scatter(k_range, scores)\n",
        "plt.xlabel('k')\n",
        "plt.ylabel('clustering score')"
      ],
      "execution_count": 41,
      "outputs": [
        {
          "output_type": "stream",
          "text": [
            "/content/spark-2.4.5-bin-hadoop2.7/python/pyspark/mllib/clustering.py:347: UserWarning: The param `runs` has no effect since Spark 2.0.0.\n",
            "  warnings.warn(\"The param `runs` has no effect since Spark 2.0.0.\")\n"
          ],
          "name": "stderr"
        },
        {
          "output_type": "stream",
          "text": [
            "65976410.833136775\n",
            "62567982.341056265\n",
            "54991558.74748274\n",
            "65754378.55422422\n",
            "64528788.02803522\n",
            "52235906.63006346\n"
          ],
          "name": "stdout"
        },
        {
          "output_type": "execute_result",
          "data": {
            "text/plain": [
              "Text(0, 0.5, 'clustering score')"
            ]
          },
          "metadata": {
            "tags": []
          },
          "execution_count": 41
        },
        {
          "output_type": "display_data",
          "data": {
            "image/png": "[encoded data removed]",
            "text/plain": [
              "<Figure size 432x288 with 1 Axes>"
            ]
          },
          "metadata": {
            "tags": []
          }
        }
      ]
    },
    {
      "cell_type": "markdown",
      "metadata": {
        "colab_type": "text",
        "id": "7I4zU04i_GcG"
      },
      "source": [
        "Apparently there's a minimum around 100 clusters..."
      ]
    },
    {
      "cell_type": "markdown",
      "metadata": {
        "colab_type": "text",
        "id": "MBOcSlxe_MDY"
      },
      "source": [
        "# **Question 7**\n",
        "Plot the clustering result to see the difference between before and after normalizing features. Discuss about the difference and explain why and if normalization was useful."
      ]
    },
    {
      "cell_type": "code",
      "metadata": {
        "colab_type": "code",
        "id": "22LKjlJO_QIm",
        "outputId": "03d87763-fd38-43c8-890c-2992a216eba0",
        "colab": {
          "base_uri": "https://localhost:8080/",
          "height": 383
        }
      },
      "source": [
        "# k: the number of clusters\n",
        "k_range = [25,100]\n",
        "\n",
        "scores = [clusteringScore(normalizedData_rdd, k) for k in k_range]\n",
        "for score in scores:\n",
        "    print(score)\n",
        "    \n",
        "# plot results\n",
        "plt.scatter(k_range, scores)\n",
        "plt.xlabel('k')\n",
        "plt.ylabel('clustering score')"
      ],
      "execution_count": 42,
      "outputs": [
        {
          "output_type": "stream",
          "text": [
            "/content/spark-2.4.5-bin-hadoop2.7/python/pyspark/mllib/clustering.py:347: UserWarning: The param `runs` has no effect since Spark 2.0.0.\n",
            "  warnings.warn(\"The param `runs` has no effect since Spark 2.0.0.\")\n"
          ],
          "name": "stderr"
        },
        {
          "output_type": "stream",
          "text": [
            "81395788.29539722\n",
            "64704558.332710035\n"
          ],
          "name": "stdout"
        },
        {
          "output_type": "execute_result",
          "data": {
            "text/plain": [
              "Text(0, 0.5, 'clustering score')"
            ]
          },
          "metadata": {
            "tags": []
          },
          "execution_count": 42
        },
        {
          "output_type": "display_data",
          "data": {
            "image/png": "[encoded data removed]",
            "text/plain": [
              "<Figure size 432x288 with 1 Axes>"
            ]
          },
          "metadata": {
            "tags": []
          }
        }
      ]
    },
    {
      "cell_type": "markdown",
      "metadata": {
        "colab_type": "text",
        "id": "RUBUCUn8_Qa1"
      },
      "source": [
        "The variation between the numbers of clusters is something to consider for the error between is relatively small compared to other k clusters. However, it seems more likely a global minimum can be found at 100 k within the scope we've tested, still lower k cluster is still impressive."
      ]
    },
    {
      "cell_type": "markdown",
      "metadata": {
        "colab_type": "text",
        "id": "zdxMuLMw_TaO"
      },
      "source": [
        "# **2.3. Clustering using categorical features**\n",
        "# **2.3.1 Loading data**\n",
        "In the previous section, we ignored the categorical features of our data: this is not a good idea, since these categorical features can be important in providing useful information for clustering. The problem is that K-means (or at least, the one we have developed and the one we use from MLLib) only work with data points in a metric space. Informally, this means that operations such as addition, substraction and computing the mean of data points are trivial and well defined. For a more formal definition of what a metric space is, follow this [link](https://en.wikipedia.org/wiki/Metric_space#Definition).\n",
        "\n",
        "What we will do next is to transform each categorical features into one or more numerical features. This approach is very widespread: imagine for example you wanted to use K-means to cluster text data. Then, the idea is to transform text data in  d -dimensional vectors, and a nice way to do it is to use [word2vec](http://deeplearning4j.org/word2vec). If you're interested, follow this link to a nice blog post on the problem.\n",
        "\n",
        "There are two approaches:\n",
        "\n",
        "* **Approach 1:** mapping one categorial feature to one numerical feature. The values in each categorical feature are encoded into unique numbers of the new numerical feature. For example, ['VERY HOT','HOT', 'COOL', 'COLD', 'VERY COLD'] will be encoded into [0,1,2,3,4,5]. However, by using this method, we implicit assume that the value of 'VERY HOT' is smaller than 'HOT'... This is not generally true.\n",
        "\n",
        "* Approach 2: mapping mapping one categorial feature to multiple numerical features. Basically, a single variable with  n  observations and  d  distinct values, to  d  binary variables with  n  observations each. Each observation indicating the presence (1) or absence (0) of the  dth  binary variable. For example, ['house', 'car', 'tooth', 'car'] becomes\n",
        "\\begin{align}\n",
        "[\n",
        "[1,0,0,0],\n",
        "[0,1,0,0],\n",
        "[0,0,1,0],\n",
        "[0,0,0,1],\n",
        "]\n",
        "\\end{align}\n",
        "We call the second approach \"one-hot encoding\". By using this approach, we keep the same role for all values of categorical features."
      ]
    },
    {
      "cell_type": "markdown",
      "metadata": {
        "colab_type": "text",
        "id": "FEsKjMt__9Ad"
      },
      "source": [
        "# **Question 8**\n",
        "Calculate the number of distinct categorical features value (at index 1,2,3). Then construct a new input data using one-hot encoding for these categorical features (don't throw away numerical features!)."
      ]
    },
    {
      "cell_type": "code",
      "metadata": {
        "colab_type": "code",
        "id": "a5AK5Jq_ACVf",
        "colab": {}
      },
      "source": [
        "def parseTextCols(data):\n",
        "  cate_data = data.map(lambda sample: sample.split(\",\")).map(lambda sample: sample[1:4])\n",
        "  return cate_data"
      ],
      "execution_count": 0,
      "outputs": []
    },
    {
      "cell_type": "code",
      "metadata": {
        "id": "7ccaXDT10gRn",
        "colab_type": "code",
        "colab": {}
      },
      "source": [
        "converted = parseTextCols(raw_data)"
      ],
      "execution_count": 0,
      "outputs": []
    },
    {
      "cell_type": "code",
      "metadata": {
        "id": "-Lg_mRvH0mEb",
        "colab_type": "code",
        "colab": {}
      },
      "source": [
        "types = converted.collect()"
      ],
      "execution_count": 0,
      "outputs": []
    },
    {
      "cell_type": "code",
      "metadata": {
        "id": "pExFflkB37Pi",
        "colab_type": "code",
        "colab": {}
      },
      "source": [
        "#finding the length of the vector needed for this one hot encoding\n",
        "all_strings = np.ravel(types)\n",
        "dict_types={}\n",
        "for a in all_strings:\n",
        "  if a not in dict_types:\n",
        "    dict_types[a]=0\n",
        "  dict_types[a]+=1\n",
        "all_types = list(dict_types.keys())"
      ],
      "execution_count": 0,
      "outputs": []
    },
    {
      "cell_type": "code",
      "metadata": {
        "id": "1YOGRgkm4mOj",
        "colab_type": "code",
        "outputId": "9f941ae0-d71a-42b0-b700-9ce36e3348fd",
        "colab": {
          "base_uri": "https://localhost:8080/",
          "height": 36
        }
      },
      "source": [
        "all_types.sort()\n",
        "len(all_types)"
      ],
      "execution_count": 47,
      "outputs": [
        {
          "output_type": "execute_result",
          "data": {
            "text/plain": [
              "84"
            ]
          },
          "metadata": {
            "tags": []
          },
          "execution_count": 47
        }
      ]
    },
    {
      "cell_type": "code",
      "metadata": {
        "id": "qw6sGp-g6jMI",
        "colab_type": "code",
        "colab": {}
      },
      "source": [
        "def make_ohe(data,vec_size,vector):\n",
        "  ind =  data.map(lambda sample: (all_types.index(sample[0]),all_types.index(sample[1]),all_types.index(sample[2])))\n",
        "  def make_frame(ind_sample):\n",
        "    frame = np.zeros(vec_size)\n",
        "    for x in range(0,3):\n",
        "      frame[ind_sample[x]] = 1\n",
        "    return frame\n",
        "  return ind.map(lambda sample: make_frame(sample))"
      ],
      "execution_count": 0,
      "outputs": []
    },
    {
      "cell_type": "code",
      "metadata": {
        "id": "0XeFJbGD70QA",
        "colab_type": "code",
        "colab": {}
      },
      "source": [
        "ohe_cols = make_ohe(converted,len(all_types),all_types)"
      ],
      "execution_count": 0,
      "outputs": []
    },
    {
      "cell_type": "code",
      "metadata": {
        "id": "rXYmNakcuY1y",
        "colab_type": "code",
        "colab": {}
      },
      "source": [
        "#the full rdd with normalizedData and categorical, wasn't asked though.\n",
        "n_and_cate = normalizedData_rdd.join(ohe_cols)"
      ],
      "execution_count": 0,
      "outputs": []
    },
    {
      "cell_type": "markdown",
      "metadata": {
        "colab_type": "text",
        "id": "nKOlIS6BADut"
      },
      "source": [
        "# **2.3.2. Building models**\n",
        "# **Question 9**\n",
        "Using the new data, cluster the connections with different values of $k\\in [80,90,100,110,120,130,140,150,160]$. Evaluate the results and choose the best value of  k  as previous questions."
      ]
    },
    {
      "cell_type": "code",
      "metadata": {
        "colab_type": "code",
        "id": "FW6yVSB6AVMM",
        "outputId": "818527f9-4ad9-4527-8232-47e433022fc6",
        "colab": {
          "base_uri": "https://localhost:8080/",
          "height": 503
        }
      },
      "source": [
        "# k: the number of clusters\n",
        "k_range = range(80, 170, 10)\n",
        "\n",
        "scores = [clusteringScore(ohe_cols, k) for k in k_range]\n",
        "for score in scores:\n",
        "    print(score)\n",
        "    \n",
        "# plot results\n",
        "plt.scatter(k_range, scores)\n",
        "plt.xlabel('k')\n",
        "plt.ylabel('clustering score')"
      ],
      "execution_count": 56,
      "outputs": [
        {
          "output_type": "stream",
          "text": [
            "/content/spark-2.4.5-bin-hadoop2.7/python/pyspark/mllib/clustering.py:347: UserWarning: The param `runs` has no effect since Spark 2.0.0.\n",
            "  warnings.warn(\"The param `runs` has no effect since Spark 2.0.0.\")\n"
          ],
          "name": "stderr"
        },
        {
          "output_type": "stream",
          "text": [
            "284561.1990382967\n",
            "391002.56824084267\n",
            "422272.4131584193\n",
            "215658.86214603315\n",
            "376527.03610817395\n",
            "236725.81253451682\n",
            "213298.89448451047\n",
            "281599.5656401341\n",
            "264296.6907025046\n"
          ],
          "name": "stdout"
        },
        {
          "output_type": "execute_result",
          "data": {
            "text/plain": [
              "Text(0, 0.5, 'clustering score')"
            ]
          },
          "metadata": {
            "tags": []
          },
          "execution_count": 56
        },
        {
          "output_type": "display_data",
          "data": {
            "image/png": "[encoded data removed]",
            "text/plain": [
              "<Figure size 432x288 with 1 Axes>"
            ]
          },
          "metadata": {
            "tags": []
          }
        }
      ]
    },
    {
      "cell_type": "markdown",
      "metadata": {
        "colab_type": "text",
        "id": "8aohxU0oAVp7"
      },
      "source": [
        "Best score is at 140 clusters. It seems above 120, the score is generally decreasing, but considering its scale of improvement at the cost of more clusters, it's to be expected for the score to at some point converge, or even diverge to infinity if at a point adding another cluster actually increases the distance, but for now, we do have some promising local minimums.\n"
      ]
    },
    {
      "cell_type": "markdown",
      "metadata": {
        "colab_type": "text",
        "id": "BKTxsr0jAXbz"
      },
      "source": [
        "# **2.4. Anomaly detection**\n",
        "When we have a new connection data (e.g., one that we never saw before), we simply find the closest cluster for it, and use this information as a proxy to indicate whether the data point is anomalous or not. A simple approach to decide wheter there is an anomaly or not, amounts to measuring the new data point’s distance to its nearest centroid. If this distance exceeds some thresholds, it is anomalous."
      ]
    },
    {
      "cell_type": "markdown",
      "metadata": {
        "colab_type": "text",
        "id": "kbIY1FvNAiyn"
      },
      "source": [
        "# **Question 10**\n",
        "Build your model with the best value of $k$ in your opinion. Then, detect the anomalous connections in our data. Plot and discuss your result.\n",
        "\n",
        "HINT: The threshold has strong impact on the result. Be careful when choosing it! A simple way to choose the threshold's value is picking up a distance of a data point from among known data. For example, the 100th-farthest data point distance can be an option."
      ]
    },
    {
      "cell_type": "code",
      "metadata": {
        "id": "yQwEJcXO-xrq",
        "colab_type": "code",
        "colab": {}
      },
      "source": [
        "def clustering(data, k):\n",
        "    clusters = KMeans.train(data, k, maxIterations=10, runs=10, initializationMode=\"random\")\n",
        "    WSSSE = clusters.computeCost(data)\n",
        "    print(\"WSSEE:\",str(WSSSE))\n",
        "    pred_label = clusters.predict(data)\n",
        "    return (clusters.centers,pred_label)"
      ],
      "execution_count": 0,
      "outputs": []
    },
    {
      "cell_type": "code",
      "metadata": {
        "colab_type": "code",
        "id": "kCBvMiNUAyKG",
        "outputId": "4d7e5c0b-a5a4-4b3b-d8e5-3f9861546956",
        "colab": {
          "base_uri": "https://localhost:8080/",
          "height": 73
        }
      },
      "source": [
        "# k: the number of clusters\n",
        "k = 25\n",
        "centers,pred_label = clustering(n_and_cate,k)"
      ],
      "execution_count": 88,
      "outputs": [
        {
          "output_type": "stream",
          "text": [
            "/content/spark-2.4.5-bin-hadoop2.7/python/pyspark/mllib/clustering.py:347: UserWarning: The param `runs` has no effect since Spark 2.0.0.\n",
            "  warnings.warn(\"The param `runs` has no effect since Spark 2.0.0.\")\n"
          ],
          "name": "stderr"
        },
        {
          "output_type": "stream",
          "text": [
            "WSSEE: 81742072.05755892\n"
          ],
          "name": "stdout"
        }
      ]
    },
    {
      "cell_type": "code",
      "metadata": {
        "id": "BaBpSppcDzhz",
        "colab_type": "code",
        "colab": {}
      },
      "source": [
        "from math import sqrt\n",
        "def euclidean_distance(a, b):\n",
        "    c = a - b\n",
        "    return np.sqrt(c.T.dot(c))"
      ],
      "execution_count": 0,
      "outputs": []
    },
    {
      "cell_type": "code",
      "metadata": {
        "id": "E2fMU7t1F8jY",
        "colab_type": "code",
        "colab": {}
      },
      "source": [
        "pred_label = pred_label.collect()"
      ],
      "execution_count": 0,
      "outputs": []
    },
    {
      "cell_type": "code",
      "metadata": {
        "id": "mBbTKfN3OCyP",
        "colab_type": "code",
        "colab": {}
      },
      "source": [
        "def use_euclidean_distance(data,centers,pred):\n",
        "  return data.zipWithIndex().map(lambda sample: (euclidean_distance(sample[0]),centers[pred[sample[1]]]))"
      ],
      "execution_count": 0,
      "outputs": []
    },
    {
      "cell_type": "code",
      "metadata": {
        "id": "G172QSXzPCdq",
        "colab_type": "code",
        "colab": {}
      },
      "source": [
        "inner_prod = use_euclidean_distance(n_and_cate,centers,pred_label)"
      ],
      "execution_count": 0,
      "outputs": []
    },
    {
      "cell_type": "code",
      "metadata": {
        "id": "B2EG5zZEOwJw",
        "colab_type": "code",
        "colab": {}
      },
      "source": [
        "inner_prod = inner_prod.join(n_and_cate)"
      ],
      "execution_count": 0,
      "outputs": []
    },
    {
      "cell_type": "code",
      "metadata": {
        "id": "4pQilCLLGyjY",
        "colab_type": "code",
        "colab": {}
      },
      "source": [
        "sorted_data = n_and_cate.sortByKey(ascending=False)"
      ],
      "execution_count": 0,
      "outputs": []
    },
    {
      "cell_type": "code",
      "metadata": {
        "id": "hfE2r2MuS5ba",
        "colab_type": "code",
        "colab": {}
      },
      "source": [
        "count = sorted_data.count()"
      ],
      "execution_count": 0,
      "outputs": []
    },
    {
      "cell_type": "code",
      "metadata": {
        "id": "4-ReU19FSmMu",
        "colab_type": "code",
        "colab": {}
      },
      "source": [
        "one_t_percentage_furthest = sorted_data.zipWithIndex().filter(lambda sample: sample[1] > count*.001)"
      ],
      "execution_count": 0,
      "outputs": []
    },
    {
      "cell_type": "code",
      "metadata": {
        "id": "f92YQwEbTKcV",
        "colab_type": "code",
        "colab": {
          "base_uri": "https://localhost:8080/",
          "height": 36
        },
        "outputId": "8d5f1a95-d0d9-433a-a81d-214fbf691fb2"
      },
      "source": [
        "one_t_percentage_furthest.take(1)"
      ],
      "execution_count": 110,
      "outputs": [
        {
          "output_type": "execute_result",
          "data": {
            "text/plain": [
              "[]"
            ]
          },
          "metadata": {
            "tags": []
          },
          "execution_count": 110
        }
      ]
    },
    {
      "cell_type": "markdown",
      "metadata": {
        "colab_type": "text",
        "id": "GcFPD2vQAze1"
      },
      "source": [
        "I believe the best k-cluster is 25 because it is the first k-cluster during our looping for larger k-clusters, there was a significant drop in score. The scores for larger k-clusters are less but they are pretty consistent and probably converge; therefore, diminishing returns is not desirable. I also switched to using both the one-hot-encoded categorical data and the numerical data together for a better model.\n",
        "The plot I made is a line plot of the euclidean distance colored by their respected clusters, by this we can clearly see where outliers are most prominent in which cluster as well as a general idea of the distribution of the points in terms of euclidean distance."
      ]
    }
  ]
}