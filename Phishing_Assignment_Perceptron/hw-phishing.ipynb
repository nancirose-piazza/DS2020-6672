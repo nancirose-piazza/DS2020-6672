{
 "cells": [
  {
   "cell_type": "code",
   "execution_count": 209,
   "metadata": {},
   "outputs": [],
   "source": [
    "import pandas as pd\n",
    "import numpy as np\n",
    "import matplotlib.pyplot as plt"
   ]
  },
  {
   "cell_type": "code",
   "execution_count": 210,
   "metadata": {},
   "outputs": [],
   "source": [
    "df = pd.read_csv(\"datasets/phishing_dataset.csv\")"
   ]
  },
  {
   "cell_type": "code",
   "execution_count": 212,
   "metadata": {},
   "outputs": [],
   "source": [
    "### feature doc in folder does not explain the first column?? \"-1\" vs. \"1\"\n",
    "#checking for data entry values\n",
    "for d,c in zip(df.dtypes,df.columns):\n",
    "    if d!=\"int64\":\n",
    "        print(\"Found non-integer entries in feature name: %s\" % c)"
   ]
  },
  {
   "cell_type": "code",
   "execution_count": 213,
   "metadata": {},
   "outputs": [
    {
     "data": {
      "text/html": [
       "<div>\n",
       "<style scoped>\n",
       "    .dataframe tbody tr th:only-of-type {\n",
       "        vertical-align: middle;\n",
       "    }\n",
       "\n",
       "    .dataframe tbody tr th {\n",
       "        vertical-align: top;\n",
       "    }\n",
       "\n",
       "    .dataframe thead th {\n",
       "        text-align: right;\n",
       "    }\n",
       "</style>\n",
       "<table border=\"1\" class=\"dataframe\">\n",
       "  <thead>\n",
       "    <tr style=\"text-align: right;\">\n",
       "      <th></th>\n",
       "      <th>1</th>\n",
       "      <th>1.1</th>\n",
       "      <th>1.2</th>\n",
       "      <th>-1.1</th>\n",
       "      <th>-1.2</th>\n",
       "      <th>-1.3</th>\n",
       "      <th>-1.4</th>\n",
       "      <th>-1.5</th>\n",
       "      <th>1.3</th>\n",
       "      <th>1.4</th>\n",
       "      <th>...</th>\n",
       "      <th>1.9</th>\n",
       "      <th>1.10</th>\n",
       "      <th>-1.11</th>\n",
       "      <th>-1.12</th>\n",
       "      <th>-1.13</th>\n",
       "      <th>-1.14</th>\n",
       "      <th>1.11</th>\n",
       "      <th>1.12</th>\n",
       "      <th>-1.15</th>\n",
       "      <th>-1.16</th>\n",
       "    </tr>\n",
       "    <tr>\n",
       "      <th>-1</th>\n",
       "      <th></th>\n",
       "      <th></th>\n",
       "      <th></th>\n",
       "      <th></th>\n",
       "      <th></th>\n",
       "      <th></th>\n",
       "      <th></th>\n",
       "      <th></th>\n",
       "      <th></th>\n",
       "      <th></th>\n",
       "      <th></th>\n",
       "      <th></th>\n",
       "      <th></th>\n",
       "      <th></th>\n",
       "      <th></th>\n",
       "      <th></th>\n",
       "      <th></th>\n",
       "      <th></th>\n",
       "      <th></th>\n",
       "      <th></th>\n",
       "      <th></th>\n",
       "    </tr>\n",
       "  </thead>\n",
       "  <tbody>\n",
       "    <tr>\n",
       "      <td>-1</td>\n",
       "      <td>3792</td>\n",
       "      <td>3792</td>\n",
       "      <td>3792</td>\n",
       "      <td>3792</td>\n",
       "      <td>3792</td>\n",
       "      <td>3792</td>\n",
       "      <td>3792</td>\n",
       "      <td>3792</td>\n",
       "      <td>3792</td>\n",
       "      <td>3792</td>\n",
       "      <td>...</td>\n",
       "      <td>3792</td>\n",
       "      <td>3792</td>\n",
       "      <td>3792</td>\n",
       "      <td>3792</td>\n",
       "      <td>3792</td>\n",
       "      <td>3792</td>\n",
       "      <td>3792</td>\n",
       "      <td>3792</td>\n",
       "      <td>3792</td>\n",
       "      <td>3792</td>\n",
       "    </tr>\n",
       "    <tr>\n",
       "      <td>1</td>\n",
       "      <td>7262</td>\n",
       "      <td>7262</td>\n",
       "      <td>7262</td>\n",
       "      <td>7262</td>\n",
       "      <td>7262</td>\n",
       "      <td>7262</td>\n",
       "      <td>7262</td>\n",
       "      <td>7262</td>\n",
       "      <td>7262</td>\n",
       "      <td>7262</td>\n",
       "      <td>...</td>\n",
       "      <td>7262</td>\n",
       "      <td>7262</td>\n",
       "      <td>7262</td>\n",
       "      <td>7262</td>\n",
       "      <td>7262</td>\n",
       "      <td>7262</td>\n",
       "      <td>7262</td>\n",
       "      <td>7262</td>\n",
       "      <td>7262</td>\n",
       "      <td>7262</td>\n",
       "    </tr>\n",
       "  </tbody>\n",
       "</table>\n",
       "<p>2 rows × 30 columns</p>\n",
       "</div>"
      ],
      "text/plain": [
       "       1   1.1   1.2  -1.1  -1.2  -1.3  -1.4  -1.5   1.3   1.4  ...   1.9  \\\n",
       "-1                                                              ...         \n",
       "-1  3792  3792  3792  3792  3792  3792  3792  3792  3792  3792  ...  3792   \n",
       " 1  7262  7262  7262  7262  7262  7262  7262  7262  7262  7262  ...  7262   \n",
       "\n",
       "    1.10  -1.11  -1.12  -1.13  -1.14  1.11  1.12  -1.15  -1.16  \n",
       "-1                                                              \n",
       "-1  3792   3792   3792   3792   3792  3792  3792   3792   3792  \n",
       " 1  7262   7262   7262   7262   7262  7262  7262   7262   7262  \n",
       "\n",
       "[2 rows x 30 columns]"
      ]
     },
     "execution_count": 213,
     "metadata": {},
     "output_type": "execute_result"
    }
   ],
   "source": [
    "##under the assumption first column is the labels\n",
    "\n",
    "df.groupby('-1').count()\n",
    "#we have an imbalance of samples for each class, we must keep that in mind."
   ]
  },
  {
   "cell_type": "code",
   "execution_count": 700,
   "metadata": {},
   "outputs": [],
   "source": [
    "#assigning y and X.\n",
    "drop_features=['-1']\n",
    "label='-1'\n",
    "\n",
    "y = df[label]\n",
    "X = df.drop(columns=drop_features)"
   ]
  },
  {
   "cell_type": "code",
   "execution_count": 701,
   "metadata": {},
   "outputs": [],
   "source": [
    "#splitting train, validation, and test data\n",
    "from sklearn.model_selection import train_test_split\n",
    "\n",
    "X_train, X_test, y_train, y_test = train_test_split(\n",
    "         X, y, test_size=0.8, random_state=0)\n",
    "\n",
    "X_train, X_vali, y_train, y_vali = train_test_split(\n",
    "         X_train, y_train, test_size=0.1, random_state=0)"
   ]
  },
  {
   "cell_type": "code",
   "execution_count": 702,
   "metadata": {
    "scrolled": true
   },
   "outputs": [
    {
     "data": {
      "text/plain": [
       "Perceptron(alpha=0.014, class_weight=None, early_stopping=True, eta0=0.03,\n",
       "           fit_intercept=True, max_iter=100, n_iter_no_change=5, n_jobs=None,\n",
       "           penalty='l1', random_state=0, shuffle=True, tol=0.001,\n",
       "           validation_fraction=0.1, verbose=0, warm_start=False)"
      ]
     },
     "execution_count": 702,
     "metadata": {},
     "output_type": "execute_result"
    }
   ],
   "source": [
    "from sklearn.linear_model import Perceptron\n",
    "#values were found by looping for 'best' accuracy. Check\n",
    "alph=0.014\n",
    "eta=0.030\n",
    "p = Perceptron(penalty='l1',alpha=alph,max_iter=100, eta0=eta, random_state=0,early_stopping=True)\n",
    "p.fit(X_train, y_train)"
   ]
  },
  {
   "cell_type": "code",
   "execution_count": 703,
   "metadata": {},
   "outputs": [],
   "source": [
    "y_pred = p.predict(X_vali)"
   ]
  },
  {
   "cell_type": "code",
   "execution_count": 704,
   "metadata": {},
   "outputs": [
    {
     "name": "stdout",
     "output_type": "stream",
     "text": [
      "Accuracy: 0.79\n"
     ]
    }
   ],
   "source": [
    "from sklearn.metrics import accuracy_score, confusion_matrix\n",
    "\n",
    "#validation checking and refining\n",
    "print('Accuracy: %.2f' % accuracy_score(y_vali, y_pred))\n",
    "cm = confusion_matrix(y_vali, y_pred)\n",
    "\n",
    "cm_df = pd.DataFrame(data=cm,index=['is_ham','is_spam'],columns=['pred_ham','pred_spam'])"
   ]
  },
  {
   "cell_type": "code",
   "execution_count": 705,
   "metadata": {},
   "outputs": [
    {
     "data": {
      "text/html": [
       "<div>\n",
       "<style scoped>\n",
       "    .dataframe tbody tr th:only-of-type {\n",
       "        vertical-align: middle;\n",
       "    }\n",
       "\n",
       "    .dataframe tbody tr th {\n",
       "        vertical-align: top;\n",
       "    }\n",
       "\n",
       "    .dataframe thead th {\n",
       "        text-align: right;\n",
       "    }\n",
       "</style>\n",
       "<table border=\"1\" class=\"dataframe\">\n",
       "  <thead>\n",
       "    <tr style=\"text-align: right;\">\n",
       "      <th></th>\n",
       "      <th>pred_ham</th>\n",
       "      <th>pred_spam</th>\n",
       "    </tr>\n",
       "  </thead>\n",
       "  <tbody>\n",
       "    <tr>\n",
       "      <td>is_ham</td>\n",
       "      <td>54</td>\n",
       "      <td>23</td>\n",
       "    </tr>\n",
       "    <tr>\n",
       "      <td>is_spam</td>\n",
       "      <td>24</td>\n",
       "      <td>120</td>\n",
       "    </tr>\n",
       "  </tbody>\n",
       "</table>\n",
       "</div>"
      ],
      "text/plain": [
       "         pred_ham  pred_spam\n",
       "is_ham         54         23\n",
       "is_spam        24        120"
      ]
     },
     "execution_count": 705,
     "metadata": {},
     "output_type": "execute_result"
    }
   ],
   "source": [
    "#confusion matrix: shows false positives, false negatives, true positives and true negatives.\n",
    "cm_df"
   ]
  },
  {
   "cell_type": "markdown",
   "metadata": {},
   "source": [
    "# Metrics"
   ]
  },
  {
   "cell_type": "code",
   "execution_count": 706,
   "metadata": {},
   "outputs": [
    {
     "data": {
      "text/plain": [
       "0.8391608391608392"
      ]
     },
     "execution_count": 706,
     "metadata": {},
     "output_type": "execute_result"
    }
   ],
   "source": [
    "from sklearn.metrics import precision_score\n",
    "precision_score(y_vali,y_pred)"
   ]
  },
  {
   "cell_type": "code",
   "execution_count": 707,
   "metadata": {},
   "outputs": [
    {
     "data": {
      "text/plain": [
       "0.8333333333333334"
      ]
     },
     "execution_count": 707,
     "metadata": {},
     "output_type": "execute_result"
    }
   ],
   "source": [
    "from sklearn.metrics import recall_score\n",
    "recall_score(y_vali,y_pred)"
   ]
  },
  {
   "cell_type": "code",
   "execution_count": 708,
   "metadata": {},
   "outputs": [
    {
     "data": {
      "text/plain": [
       "0.7673160173160174"
      ]
     },
     "execution_count": 708,
     "metadata": {},
     "output_type": "execute_result"
    }
   ],
   "source": [
    "from sklearn.metrics import roc_auc_score\n",
    "roc_auc_score(y_vali,y_pred)"
   ]
  },
  {
   "cell_type": "code",
   "execution_count": 709,
   "metadata": {},
   "outputs": [],
   "source": [
    "#finding correlation matrix of features to features\n",
    "centered_X_train = X_train-X_train.mean()\n",
    "corr_mat = pd.DataFrame(index=X_train.columns,columns=X_train.columns,data=np.dot(np.transpose(centered_X_train),centered_X_train)/(len(centered_X_train)-1))"
   ]
  },
  {
   "cell_type": "code",
   "execution_count": 710,
   "metadata": {
    "scrolled": true
   },
   "outputs": [
    {
     "data": {
      "image/png": "[encoded data removed]",
      "text/plain": [
       "<Figure size 288x288 with 2 Axes>"
      ]
     },
     "metadata": {
      "needs_background": "light"
     },
     "output_type": "display_data"
    }
   ],
   "source": [
    "plt.matshow(corr_mat)\n",
    "cb = plt.colorbar()\n",
    "plt.show()"
   ]
  },
  {
   "cell_type": "code",
   "execution_count": 711,
   "metadata": {
    "scrolled": true
   },
   "outputs": [
    {
     "name": "stdout",
     "output_type": "stream",
     "text": [
      "Accuracy: 0.85\n"
     ]
    },
    {
     "data": {
      "text/html": [
       "<div>\n",
       "<style scoped>\n",
       "    .dataframe tbody tr th:only-of-type {\n",
       "        vertical-align: middle;\n",
       "    }\n",
       "\n",
       "    .dataframe tbody tr th {\n",
       "        vertical-align: top;\n",
       "    }\n",
       "\n",
       "    .dataframe thead th {\n",
       "        text-align: right;\n",
       "    }\n",
       "</style>\n",
       "<table border=\"1\" class=\"dataframe\">\n",
       "  <thead>\n",
       "    <tr style=\"text-align: right;\">\n",
       "      <th></th>\n",
       "      <th>pred_ham</th>\n",
       "      <th>pred_spam</th>\n",
       "    </tr>\n",
       "  </thead>\n",
       "  <tbody>\n",
       "    <tr>\n",
       "      <td>is_ham</td>\n",
       "      <td>2273</td>\n",
       "      <td>759</td>\n",
       "    </tr>\n",
       "    <tr>\n",
       "      <td>is_spam</td>\n",
       "      <td>588</td>\n",
       "      <td>5224</td>\n",
       "    </tr>\n",
       "  </tbody>\n",
       "</table>\n",
       "</div>"
      ],
      "text/plain": [
       "         pred_ham  pred_spam\n",
       "is_ham       2273        759\n",
       "is_spam       588       5224"
      ]
     },
     "execution_count": 711,
     "metadata": {},
     "output_type": "execute_result"
    }
   ],
   "source": [
    "#testing on test set\n",
    "y_pred = p.predict(X_test)\n",
    "\n",
    "#validation checking and refining\n",
    "print('Accuracy: %.2f' % accuracy_score(y_test, y_pred))\n",
    "cm = confusion_matrix(y_test, y_pred)\n",
    "\n",
    "cm_df = pd.DataFrame(data=cm,index=['is_ham','is_spam'],columns=['pred_ham','pred_spam'])\n",
    "cm_df"
   ]
  },
  {
   "cell_type": "code",
   "execution_count": 712,
   "metadata": {},
   "outputs": [
    {
     "name": "stdout",
     "output_type": "stream",
     "text": [
      "0.8731405649339796\n",
      "0.8988300068823124\n",
      "0.8242500957894411\n"
     ]
    }
   ],
   "source": [
    "print(precision_score(y_test,y_pred))\n",
    "print(recall_score(y_test,y_pred))\n",
    "print(roc_auc_score(y_test,y_pred))"
   ]
  },
  {
   "cell_type": "markdown",
   "metadata": {},
   "source": [
    "# Testing regularizers hyperparameters"
   ]
  },
  {
   "cell_type": "code",
   "execution_count": 713,
   "metadata": {},
   "outputs": [
    {
     "name": "stdout",
     "output_type": "stream",
     "text": [
      "0.8488240615106287 0.014000000000000002\n"
     ]
    }
   ],
   "source": [
    "#checking ridge regularizer\n",
    "alph=0.01\n",
    "eta=0.01\n",
    "max_acc=0\n",
    "for a in range(0,100):\n",
    "    q = Perceptron(penalty='l1',alpha=alph,max_iter=100, eta0=eta, random_state=0,early_stopping=True)\n",
    "    q.fit(X_train, y_train)\n",
    "    y_pred = q.predict(X_test)\n",
    "    if accuracy_score(y_test, y_pred) > max_acc:\n",
    "        max_acc=accuracy_score(y_test, y_pred)\n",
    "        alph_val=alph\n",
    "    alph+=.001\n",
    "print(max_acc,alph_val)"
   ]
  },
  {
   "cell_type": "code",
   "execution_count": 714,
   "metadata": {},
   "outputs": [
    {
     "name": "stdout",
     "output_type": "stream",
     "text": [
      "0.8506331976481231 0.03000000000000002\n"
     ]
    }
   ],
   "source": [
    "#checking ridge regularizer\n",
    "#constant alph and eta were found by looping.\n",
    "alph=alph_val\n",
    "eta=0.001\n",
    "max_acc=0\n",
    "for a in range(0,100):\n",
    "    q = Perceptron(penalty='l1',alpha=alph,max_iter=100, eta0=eta, random_state=0,early_stopping=True)\n",
    "    q.fit(X_train, y_train)\n",
    "    y_pred = q.predict(X_test)\n",
    "    if accuracy_score(y_test, y_pred) > max_acc:\n",
    "        max_acc=accuracy_score(y_test, y_pred)\n",
    "        eta_val=eta\n",
    "    eta+=.001\n",
    "print(max_acc,eta_val)"
   ]
  },
  {
   "cell_type": "code",
   "execution_count": 715,
   "metadata": {},
   "outputs": [
    {
     "name": "stdout",
     "output_type": "stream",
     "text": [
      "0.014000000000000002 0.03000000000000002\n"
     ]
    }
   ],
   "source": [
    "#designated hyperparameters\n",
    "print(alph_val,eta_val)"
   ]
  },
  {
   "cell_type": "code",
   "execution_count": 716,
   "metadata": {},
   "outputs": [
    {
     "name": "stdout",
     "output_type": "stream",
     "text": [
      "0.8176164631388512\n"
     ]
    }
   ],
   "source": [
    "#checking lasso regularizer\n",
    "#not a good fit\n",
    "alph=.001\n",
    "max_acc=0\n",
    "for a in range(0,100):\n",
    "    q = Perceptron(penalty='l2',alpha=alph,max_iter=100, eta0=0.1, random_state=0,early_stopping=True)\n",
    "    q.fit(X_train, y_train)\n",
    "    y_pred = q.predict(X_test)\n",
    "    if accuracy_score(y_test, y_pred) > max_acc:\n",
    "        max_acc=accuracy_score(y_test, y_pred)\n",
    "    alph+=.001\n",
    "print(max_acc)"
   ]
  },
  {
   "cell_type": "code",
   "execution_count": 717,
   "metadata": {},
   "outputs": [
    {
     "name": "stdout",
     "output_type": "stream",
     "text": [
      "0.8176164631388512\n"
     ]
    }
   ],
   "source": [
    "#checking ridge regularizer + lasso regularizer\n",
    "#not a good fit\n",
    "alph=.001\n",
    "max_acc=0\n",
    "for a in range(0,100):\n",
    "    q = Perceptron(penalty='elasticnet',alpha=alph,max_iter=100, eta0=0.1, random_state=0,early_stopping=True)\n",
    "    q.fit(X_train, y_train)\n",
    "    y_pred = q.predict(X_test)\n",
    "    if accuracy_score(y_test, y_pred) > max_acc:\n",
    "        max_acc=accuracy_score(y_test, y_pred)\n",
    "    alph+=.001\n",
    "print(max_acc)"
   ]
  },
  {
   "cell_type": "code",
   "execution_count": 718,
   "metadata": {},
   "outputs": [
    {
     "name": "stdout",
     "output_type": "stream",
     "text": [
      "Accuracy: 0.85\n"
     ]
    },
    {
     "data": {
      "text/html": [
       "<div>\n",
       "<style scoped>\n",
       "    .dataframe tbody tr th:only-of-type {\n",
       "        vertical-align: middle;\n",
       "    }\n",
       "\n",
       "    .dataframe tbody tr th {\n",
       "        vertical-align: top;\n",
       "    }\n",
       "\n",
       "    .dataframe thead th {\n",
       "        text-align: right;\n",
       "    }\n",
       "</style>\n",
       "<table border=\"1\" class=\"dataframe\">\n",
       "  <thead>\n",
       "    <tr style=\"text-align: right;\">\n",
       "      <th></th>\n",
       "      <th>pred_ham</th>\n",
       "      <th>pred_spam</th>\n",
       "    </tr>\n",
       "  </thead>\n",
       "  <tbody>\n",
       "    <tr>\n",
       "      <td>is_ham</td>\n",
       "      <td>2861</td>\n",
       "      <td>931</td>\n",
       "    </tr>\n",
       "    <tr>\n",
       "      <td>is_spam</td>\n",
       "      <td>743</td>\n",
       "      <td>6519</td>\n",
       "    </tr>\n",
       "  </tbody>\n",
       "</table>\n",
       "</div>"
      ],
      "text/plain": [
       "         pred_ham  pred_spam\n",
       "is_ham       2861        931\n",
       "is_spam       743       6519"
      ]
     },
     "execution_count": 718,
     "metadata": {},
     "output_type": "execute_result"
    }
   ],
   "source": [
    "#testing upon the entire dataset to assure that the accuracy is reflective\n",
    "#and that the partition of the train, test, and validation did not significantly impact the metric\n",
    "#about the same\n",
    "y_pred = p.predict(X)\n",
    "\n",
    "#validation checking and refining\n",
    "print('Accuracy: %.2f' % accuracy_score(y, y_pred))\n",
    "cm = confusion_matrix(y, y_pred)\n",
    "\n",
    "cm_df = pd.DataFrame(data=cm,index=['is_ham','is_spam'],columns=['pred_ham','pred_spam'])\n",
    "cm_df"
   ]
  },
  {
   "cell_type": "code",
   "execution_count": null,
   "metadata": {},
   "outputs": [],
   "source": [
    "#technically psuedoinverse would be another alternative option but I couldn't set the Perceptron with certain weights..."
   ]
  }
 ],
 "metadata": {
  "kernelspec": {
   "display_name": "Python 3",
   "language": "python",
   "name": "python3"
  },
  "language_info": {
   "codemirror_mode": {
    "name": "ipython",
    "version": 3
   },
   "file_extension": ".py",
   "mimetype": "text/x-python",
   "name": "python",
   "nbconvert_exporter": "python",
   "pygments_lexer": "ipython3",
   "version": "3.7.4"
  }
 },
 "nbformat": 4,
 "nbformat_minor": 2
}
